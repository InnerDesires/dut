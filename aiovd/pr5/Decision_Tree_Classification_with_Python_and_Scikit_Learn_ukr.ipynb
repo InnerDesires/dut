{
 "cells": [
  {
   "cell_type": "markdown",
   "metadata": {},
   "source": [
    "# Decision Tree Classification з використанням Python та Scikit-Learn\n",
    "\n",
    "\n",
    "У цьому проекті побудовано класифікатор дерева рішень для прогнозування безпеки автомобіля. Фактично створено дві моделі, одну з критерієм «індекс Джіні», а іншу — з критерієм «ентропія». Питання класифікації з використанням дерева рішень вирішено за допомогою Python і Scikit-Learn. Для цього проекту використано **Набір даних оцінки автомобіля**, завантажений із веб-сайту UCI Machine Learning Repository."
   ]
  },
  {
   "cell_type": "markdown",
   "metadata": {},
   "source": [
    "## Зміст\n",
    "\n",
    "1. Вступ до алгоритму дерева рішень\n",
    "2. Дерева класифікації та регресії\n",
    "3. Інтуїтивна побудова алгоритму дерева рішень\n",
    "4. Заходи відбору ознак\n",
    " - Приріст інформації\n",
    " - Індекс Джіні\n",
    "5. Постановка проблеми\n",
    "6. Опис набору даних\n",
    "7. Імпорт бібліотек\n",
    "8. Імпорт набору даних\n",
    "9. Пошуковий аналіз даних\n",
    "10. Оголошення вектора ознак і цільової змінної\n",
    "11. Розподіл дані на окремі навчальний та тестовий набір даних\n",
    "12. Інженерія ознак\n",
    "13. Класифікатор дерева рішень з критерієм gini-index\n",
    "14. Класифікатор дерева рішень з критерієм ентропії\n",
    "15. Матриця помилок\n",
    "16. Класифікаційний протокол\n",
    "17. Підсумки та висновок\n"
   ]
  },
  {
   "cell_type": "markdown",
   "metadata": {},
   "source": [
    "## 1. Вступ до Decision Tree algorithm\n",
    "\n",
    "\n",
    "Алгоритм дерева рішень є одним із найпопулярніших алгоритмів машинного навчання. Він використовує деревоподібні структури та їх можливі комбінації для вирішення певної проблеми. Він належить до класу контрольованих алгоритмів навчання, де його можна використовувати як для класифікації, так і для регресії. \n",
    "\n",
    "\n",
    "Дерево рішень — це структура, яка включає кореневий вузол, гілки та листові вузли. Кожен внутрішній вузол позначає перевірку атрибута, кожна гілка позначає результат перевірки, а кожен кінцевий вузол містить мітку класу. Самий верхній вузол у дереві є кореневим вузлом. \n"
   ]
  },
  {
   "cell_type": "markdown",
   "metadata": {},
   "source": [
    "## 2. Classification and Regression Trees (CART)\n",
    "\n",
    "\n",
    "Нині алгоритм дерева рішень відомий під сучасною назвою **CART**, що означає **Classification and Regression Trees (дерева класифікації та регресії)**.\n",
    "Дерева класифікації та регресії або **CART** — це термін, який запровадив Лео Брейман для позначення алгоритмів дерева рішень, які можна використовувати для проблем класифікації та регресійного моделювання. Алгоритм CART забезпечує основу для інших важливих алгоритмів, таких як інкапсульовані дерева рішень, випадкові ліси і розширені дерева рішень.\n",
    "\n",
    "\n",
    "У цьому проекті розв’язано задачу класифікації. "
   ]
  },
  {
   "cell_type": "markdown",
   "metadata": {},
   "source": [
    "## 3. Інтуїтивна побудова алгоритму дерева рішень\n",
    "\n",
    "Алгоритм дерева рішень є одним із найбільш часто використовуваних алгоритмів керованого машинного навчання, який можна використовувати як для завдань класифікації, так і для регресії. Інтуїтивний підхід, що лежить в основі алгоритму Дерева рішень, більш-менш просто зрозуміти.\n",
    "\n",
    "\n",
    "ідея Decision Tree algorithm полягає в наступному:-\n",
    "\n",
    "\n",
    "1. Для кожного атрибута в наборі даних алгоритм дерева рішень формує вузол. Найважливіший атрибут розміщується в кореневому вузлі.\n",
    "\n",
    "2. Для оцінки поточного завдання ми починаємо з кореневого вузла і рухаємося вниз по дереву, дотримуючись відповідного вузла, який відповідає нашій умові чи рішенню.\n",
    "\n",
    "3. Цей процес триває доти, доки не буде досягнуто листкового вузла. Він містить прогноз або результат дерева рішень.\n"
   ]
  },
  {
   "cell_type": "markdown",
   "metadata": {},
   "source": [
    "## 4. Заходи відбору ознак\n",
    "\n",
    "\n",
    "Основним завданням у реалізації дерева рішень є визначення атрибутів, які ми розглядаємо як кореневий вузол і кожен рівень. Цей процес відомий як **вибір атрибутів**. Існують різні міри вибору атрибутів для визначення атрибута, який можна вважати кореневим вузлом на кожному рівні.\n",
    "\n",
    "\n",
    "Є 2 популярні способи вибору атрибутів. Вони такі:-\n",
    "\n",
    "\n",
    "- **Information gain (приріст інформації)**\n",
    "\n",
    "- **Gini index (індекс Джіні)**\n",
    "\n",
    "\n",
    "Використовуючи **Приріст інформації** як критерій, ми припускаємо, що атрибути є категоріальними, а для **Індексу Джіні** атрибути вважаються безперервними. Ці заходи вибору атрибутів описані нижче.\n",
    "\n",
    "\n",
    "### Information gain\n",
    "\n",
    "\n",
    "Використовуючи приріст інформації як критерій, ми намагаємося оцінити інформацію, що міститься в кожному атрибуті. Щоб зрозуміти концепцію отримання інформації, нам потрібно знати іншу концепцію під назвою **Ентропія**.\n",
    "\n",
    "\n",
    "Ентропія вимірює помилки класифікації в даному наборі даних. У фізиці та математиці ентропія називається випадковістю або невизначеністю випадкової величини X. У теорії інформації вона відноситься до помилок класифікації в групі прикладів. **Приріст інформації** – це зменшення ентропії. Приріст інформації обчислює різницю між ентропією до поділу та середньою ентропією після поділу набору даних на основі заданих значень атрибутів.\n",
    "\n",
    "\n",
    "Алгоритм дерева рішень ID3 (Iterative Dichotomiser) використовує ентропію для обчислення приросту інформації. Отже, обчисливши зменшення **міри ентропії** кожного атрибута, ми можемо обчислити їх інформаційний приріст. Атрибут з найбільшим приростом інформації вибирається як атрибут розщеплення у вузлі.\n",
    "\n",
    "### Gini index\n",
    "\n",
    "\n",
    "Іншим показником вибору атрибутів, який використовує **CART (категорійні та регресійні дерева)**, є **індекс Джіні**. Він використовує метод Джіні для створення точок розділення.\n",
    "\n",
    "Індекс Джіні каже, що якщо ми випадковим чином виберемо два елементи із сукупності, вони мають бути одного класу, і ймовірність цього дорівнює 1, якщо сукупність чиста.\n",
    "\n",
    "Він працює з категоріальною цільовою змінною «Успіх» або «Невдача». Він виконує лише двійкові розбиття. Чим вище значення Gini, тим вище однорідність. CART (Дерево класифікації та регресії) використовує метод Джіні для створення двійкових розділень.\n",
    "\n",
    "Кроки для розрахунку індексу Джині для поділу\n",
    "\n",
    "1. Обчисліть індекс Джині для підвузлів, використовуючи формулу суми квадратів ймовірності успіху та невдачі (p^2+q^2).\n",
    "\n",
    "2. Обчисліть індекс Джині для поділу, використовуючи зважену оцінку індексу Джині кожного вузла цього поділу.\n",
    "\n",
    "\n",
    "У випадку атрибута з дискретним значенням підмножина, яка дає мінімальний індекс Джини, вибирається як атрибут розщеплення. У випадку безперервних атрибутів стратегія полягає у виборі кожної пари суміжних значень як можливої ​​точки розділення та точки з меншим індексом Джіні, обраної як точка розділення. Атрибут з мінімальним індексом Джіні вибирається як атрибут розбиття.\n"
   ]
  },
  {
   "cell_type": "markdown",
   "metadata": {},
   "source": [
    "## 5. Постановка проблеми\n",
    "\n",
    "\n",
    "Проблема полягає в тому, щоб передбачити безпеку автомобіля. У цьому проекті побудовано класифікатор дерева рішень для прогнозування безпеки автомобіля. Створено класифікацію дерева рішень за допомогою Python і Scikit-Learn. Для цього проекту використано **Набір даних оцінки автомобіля**, завантажений із веб-сайту UCI Machine Learning Repository.\n"
   ]
  },
  {
   "cell_type": "markdown",
   "metadata": {},
   "source": [
    "## 6. Опис набору даних\n",
    "\n",
    "\n",
    "Використано **Набір даних оцінки автомобіля**, завантажений із веб-сайту Kaggle  або archive.ics.uci.edu. Набір даних і їх опис  можна знайти за таким url:\n",
    "\n",
    "http://archive.ics.uci.edu/ml/datasets/Car+Evaluation\n",
    "\n",
    "\n",
    "База даних оцінки автомобіля була отримана з простої ієрархічної моделі прийняття рішень, спочатку розробленої для експертної системи для прийняття рішень. База даних оцінки автомобіля містить приклади з вилученою структурною інформацією, тобто безпосередньо пов’язує опис автомобіля із шістьма вхідними атрибутами: buying, maint, doors, persons, lug_boot, safety.\n"
   ]
  },
  {
   "cell_type": "markdown",
   "metadata": {},
   "source": [
    "## 7. Імпорт додаткових бібліотек"
   ]
  },
  {
   "cell_type": "code",
   "execution_count": 1,
   "metadata": {},
   "outputs": [],
   "source": [
    "import pandas as pd\n",
    "import numpy as np\n",
    "import matplotlib.pyplot as plt\n",
    "import seaborn as sns\n",
    "%matplotlib inline"
   ]
  },
  {
   "cell_type": "code",
   "execution_count": 2,
   "metadata": {},
   "outputs": [],
   "source": [
    "import warnings\n",
    "\n",
    "warnings.filterwarnings('ignore')"
   ]
  },
  {
   "cell_type": "markdown",
   "metadata": {},
   "source": [
    "## 8. Завантаження набору данних"
   ]
  },
  {
   "cell_type": "code",
   "execution_count": 3,
   "metadata": {},
   "outputs": [],
   "source": [
    "data = 'car.data' # передбачається, що файл в тому ж каталозі, що й .ipynb-файл.\n",
    "\n",
    "df = pd.read_csv(data, header=None)"
   ]
  },
  {
   "cell_type": "markdown",
   "metadata": {},
   "source": [
    "## 9. Пошуковий аналіз даних\n",
    "\n",
    "\n",
    "Треба вивчити завантажені дані, щоб отримати уявлення про них."
   ]
  },
  {
   "cell_type": "code",
   "execution_count": 4,
   "metadata": {},
   "outputs": [
    {
     "data": {
      "text/plain": [
       "(1728, 7)"
      ]
     },
     "execution_count": 4,
     "metadata": {},
     "output_type": "execute_result"
    }
   ],
   "source": [
    "# view dimensions of dataset\n",
    "\n",
    "df.shape"
   ]
  },
  {
   "cell_type": "markdown",
   "metadata": {},
   "source": [
    "Ми бачимо, що в наборі даних є 1728 екземплярів і 7 змінних."
   ]
  },
  {
   "cell_type": "markdown",
   "metadata": {},
   "source": [
    "### Подивимось перші 5 рідків набору даних"
   ]
  },
  {
   "cell_type": "code",
   "execution_count": 5,
   "metadata": {
    "scrolled": false
   },
   "outputs": [
    {
     "data": {
      "text/html": [
       "<div>\n",
       "<style scoped>\n",
       "    .dataframe tbody tr th:only-of-type {\n",
       "        vertical-align: middle;\n",
       "    }\n",
       "\n",
       "    .dataframe tbody tr th {\n",
       "        vertical-align: top;\n",
       "    }\n",
       "\n",
       "    .dataframe thead th {\n",
       "        text-align: right;\n",
       "    }\n",
       "</style>\n",
       "<table border=\"1\" class=\"dataframe\">\n",
       "  <thead>\n",
       "    <tr style=\"text-align: right;\">\n",
       "      <th></th>\n",
       "      <th>0</th>\n",
       "      <th>1</th>\n",
       "      <th>2</th>\n",
       "      <th>3</th>\n",
       "      <th>4</th>\n",
       "      <th>5</th>\n",
       "      <th>6</th>\n",
       "    </tr>\n",
       "  </thead>\n",
       "  <tbody>\n",
       "    <tr>\n",
       "      <th>0</th>\n",
       "      <td>vhigh</td>\n",
       "      <td>vhigh</td>\n",
       "      <td>2</td>\n",
       "      <td>2</td>\n",
       "      <td>small</td>\n",
       "      <td>low</td>\n",
       "      <td>unacc</td>\n",
       "    </tr>\n",
       "    <tr>\n",
       "      <th>1</th>\n",
       "      <td>vhigh</td>\n",
       "      <td>vhigh</td>\n",
       "      <td>2</td>\n",
       "      <td>2</td>\n",
       "      <td>small</td>\n",
       "      <td>med</td>\n",
       "      <td>unacc</td>\n",
       "    </tr>\n",
       "    <tr>\n",
       "      <th>2</th>\n",
       "      <td>vhigh</td>\n",
       "      <td>vhigh</td>\n",
       "      <td>2</td>\n",
       "      <td>2</td>\n",
       "      <td>small</td>\n",
       "      <td>high</td>\n",
       "      <td>unacc</td>\n",
       "    </tr>\n",
       "    <tr>\n",
       "      <th>3</th>\n",
       "      <td>vhigh</td>\n",
       "      <td>vhigh</td>\n",
       "      <td>2</td>\n",
       "      <td>2</td>\n",
       "      <td>med</td>\n",
       "      <td>low</td>\n",
       "      <td>unacc</td>\n",
       "    </tr>\n",
       "    <tr>\n",
       "      <th>4</th>\n",
       "      <td>vhigh</td>\n",
       "      <td>vhigh</td>\n",
       "      <td>2</td>\n",
       "      <td>2</td>\n",
       "      <td>med</td>\n",
       "      <td>med</td>\n",
       "      <td>unacc</td>\n",
       "    </tr>\n",
       "  </tbody>\n",
       "</table>\n",
       "</div>"
      ],
      "text/plain": [
       "       0      1  2  3      4     5      6\n",
       "0  vhigh  vhigh  2  2  small   low  unacc\n",
       "1  vhigh  vhigh  2  2  small   med  unacc\n",
       "2  vhigh  vhigh  2  2  small  high  unacc\n",
       "3  vhigh  vhigh  2  2    med   low  unacc\n",
       "4  vhigh  vhigh  2  2    med   med  unacc"
      ]
     },
     "execution_count": 5,
     "metadata": {},
     "output_type": "execute_result"
    }
   ],
   "source": [
    "# preview the dataset\n",
    "\n",
    "df.head()"
   ]
  },
  {
   "cell_type": "markdown",
   "metadata": {},
   "source": [
    "### Перейменування назв стовпців\n",
    "\n",
    "Ми бачимо, що набір даних не має правильних імен стовпців. Стовпці просто позначені як 0,1,2.... і так далі. Ми повинні дати правильні назви стовпцям. Нижче це зроблено наступним чином:-"
   ]
  },
  {
   "cell_type": "code",
   "execution_count": 6,
   "metadata": {},
   "outputs": [
    {
     "data": {
      "text/plain": [
       "['buying', 'maint', 'doors', 'persons', 'lug_boot', 'safety', 'class']"
      ]
     },
     "execution_count": 6,
     "metadata": {},
     "output_type": "execute_result"
    }
   ],
   "source": [
    "col_names = ['buying', 'maint', 'doors', 'persons', 'lug_boot', 'safety', 'class']\n",
    "\n",
    "\n",
    "df.columns = col_names\n",
    "\n",
    "col_names"
   ]
  },
  {
   "cell_type": "code",
   "execution_count": 7,
   "metadata": {},
   "outputs": [
    {
     "data": {
      "text/html": [
       "<div>\n",
       "<style scoped>\n",
       "    .dataframe tbody tr th:only-of-type {\n",
       "        vertical-align: middle;\n",
       "    }\n",
       "\n",
       "    .dataframe tbody tr th {\n",
       "        vertical-align: top;\n",
       "    }\n",
       "\n",
       "    .dataframe thead th {\n",
       "        text-align: right;\n",
       "    }\n",
       "</style>\n",
       "<table border=\"1\" class=\"dataframe\">\n",
       "  <thead>\n",
       "    <tr style=\"text-align: right;\">\n",
       "      <th></th>\n",
       "      <th>buying</th>\n",
       "      <th>maint</th>\n",
       "      <th>doors</th>\n",
       "      <th>persons</th>\n",
       "      <th>lug_boot</th>\n",
       "      <th>safety</th>\n",
       "      <th>class</th>\n",
       "    </tr>\n",
       "  </thead>\n",
       "  <tbody>\n",
       "    <tr>\n",
       "      <th>0</th>\n",
       "      <td>vhigh</td>\n",
       "      <td>vhigh</td>\n",
       "      <td>2</td>\n",
       "      <td>2</td>\n",
       "      <td>small</td>\n",
       "      <td>low</td>\n",
       "      <td>unacc</td>\n",
       "    </tr>\n",
       "    <tr>\n",
       "      <th>1</th>\n",
       "      <td>vhigh</td>\n",
       "      <td>vhigh</td>\n",
       "      <td>2</td>\n",
       "      <td>2</td>\n",
       "      <td>small</td>\n",
       "      <td>med</td>\n",
       "      <td>unacc</td>\n",
       "    </tr>\n",
       "    <tr>\n",
       "      <th>2</th>\n",
       "      <td>vhigh</td>\n",
       "      <td>vhigh</td>\n",
       "      <td>2</td>\n",
       "      <td>2</td>\n",
       "      <td>small</td>\n",
       "      <td>high</td>\n",
       "      <td>unacc</td>\n",
       "    </tr>\n",
       "    <tr>\n",
       "      <th>3</th>\n",
       "      <td>vhigh</td>\n",
       "      <td>vhigh</td>\n",
       "      <td>2</td>\n",
       "      <td>2</td>\n",
       "      <td>med</td>\n",
       "      <td>low</td>\n",
       "      <td>unacc</td>\n",
       "    </tr>\n",
       "    <tr>\n",
       "      <th>4</th>\n",
       "      <td>vhigh</td>\n",
       "      <td>vhigh</td>\n",
       "      <td>2</td>\n",
       "      <td>2</td>\n",
       "      <td>med</td>\n",
       "      <td>med</td>\n",
       "      <td>unacc</td>\n",
       "    </tr>\n",
       "  </tbody>\n",
       "</table>\n",
       "</div>"
      ],
      "text/plain": [
       "  buying  maint doors persons lug_boot safety  class\n",
       "0  vhigh  vhigh     2       2    small    low  unacc\n",
       "1  vhigh  vhigh     2       2    small    med  unacc\n",
       "2  vhigh  vhigh     2       2    small   high  unacc\n",
       "3  vhigh  vhigh     2       2      med    low  unacc\n",
       "4  vhigh  vhigh     2       2      med    med  unacc"
      ]
     },
     "execution_count": 7,
     "metadata": {},
     "output_type": "execute_result"
    }
   ],
   "source": [
    "# let's again preview the dataset\n",
    "\n",
    "df.head()"
   ]
  },
  {
   "cell_type": "markdown",
   "metadata": {},
   "source": [
    "Ми бачимо, що стовпці перейменовано. Тепер вони мають змістовні назви."
   ]
  },
  {
   "cell_type": "markdown",
   "metadata": {},
   "source": [
    "### Передивимось загальні відомості про набір даних"
   ]
  },
  {
   "cell_type": "code",
   "execution_count": 8,
   "metadata": {},
   "outputs": [
    {
     "name": "stdout",
     "output_type": "stream",
     "text": [
      "<class 'pandas.core.frame.DataFrame'>\n",
      "RangeIndex: 1728 entries, 0 to 1727\n",
      "Data columns (total 7 columns):\n",
      "buying      1728 non-null object\n",
      "maint       1728 non-null object\n",
      "doors       1728 non-null object\n",
      "persons     1728 non-null object\n",
      "lug_boot    1728 non-null object\n",
      "safety      1728 non-null object\n",
      "class       1728 non-null object\n",
      "dtypes: object(7)\n",
      "memory usage: 94.6+ KB\n"
     ]
    }
   ],
   "source": [
    "df.info()"
   ]
  },
  {
   "cell_type": "markdown",
   "metadata": {},
   "source": [
    "### Частотний розподіл значень у змінних\n",
    "\n",
    "Перевіримо частотний розподіл категоріальних змінних."
   ]
  },
  {
   "cell_type": "code",
   "execution_count": 9,
   "metadata": {},
   "outputs": [
    {
     "name": "stdout",
     "output_type": "stream",
     "text": [
      "med      432\n",
      "low      432\n",
      "vhigh    432\n",
      "high     432\n",
      "Name: buying, dtype: int64\n",
      "med      432\n",
      "low      432\n",
      "vhigh    432\n",
      "high     432\n",
      "Name: maint, dtype: int64\n",
      "5more    432\n",
      "4        432\n",
      "2        432\n",
      "3        432\n",
      "Name: doors, dtype: int64\n",
      "4       576\n",
      "2       576\n",
      "more    576\n",
      "Name: persons, dtype: int64\n",
      "med      576\n",
      "big      576\n",
      "small    576\n",
      "Name: lug_boot, dtype: int64\n",
      "med     576\n",
      "low     576\n",
      "high    576\n",
      "Name: safety, dtype: int64\n",
      "unacc    1210\n",
      "acc       384\n",
      "good       69\n",
      "vgood      65\n",
      "Name: class, dtype: int64\n"
     ]
    }
   ],
   "source": [
    "col_names = ['buying', 'maint', 'doors', 'persons', 'lug_boot', 'safety', 'class']\n",
    "\n",
    "\n",
    "for col in col_names:\n",
    "    \n",
    "    print(df[col].value_counts())   \n"
   ]
  },
  {
   "cell_type": "markdown",
   "metadata": {},
   "source": [
    "Ми бачимо, що «doors» і «persons» мають категоріальний характер. Тому далі вони розглядатирозглядатимуться як категориальні змінні."
   ]
  },
  {
   "cell_type": "markdown",
   "metadata": {},
   "source": [
    "### Результати аналізу змінних\n",
    "\n",
    "\n",
    "- У наборі даних є 7 змінних. Усі змінні мають категоріальний тип даних.\n",
    "\n",
    "\n",
    "- Імена стовпчиків даних buying, maint, doors, persons, lug_boot, safety і class.\n",
    "\n",
    "\n",
    "- class - цільова змінна."
   ]
  },
  {
   "cell_type": "markdown",
   "metadata": {},
   "source": [
    "### Розглянемо змінну class"
   ]
  },
  {
   "cell_type": "code",
   "execution_count": 10,
   "metadata": {},
   "outputs": [
    {
     "data": {
      "text/plain": [
       "unacc    1210\n",
       "acc       384\n",
       "good       69\n",
       "vgood      65\n",
       "Name: class, dtype: int64"
      ]
     },
     "execution_count": 10,
     "metadata": {},
     "output_type": "execute_result"
    }
   ],
   "source": [
    "df['class'].value_counts()"
   ]
  },
  {
   "cell_type": "markdown",
   "metadata": {},
   "source": [
    "Цільова змінна class має порядковий характер."
   ]
  },
  {
   "cell_type": "markdown",
   "metadata": {},
   "source": [
    "### Перевірка наявності пропущених значень"
   ]
  },
  {
   "cell_type": "code",
   "execution_count": 11,
   "metadata": {},
   "outputs": [
    {
     "data": {
      "text/plain": [
       "buying      0\n",
       "maint       0\n",
       "doors       0\n",
       "persons     0\n",
       "lug_boot    0\n",
       "safety      0\n",
       "class       0\n",
       "dtype: int64"
      ]
     },
     "execution_count": 11,
     "metadata": {},
     "output_type": "execute_result"
    }
   ],
   "source": [
    "# check missing values in variables\n",
    "\n",
    "df.isnull().sum()"
   ]
  },
  {
   "cell_type": "markdown",
   "metadata": {},
   "source": [
    "З наведеного результату видно, що в наборі даних немає пропущених значень. Раніше було перевірено частотний розподіл значень. Це також підтверджує, що в наборі даних немає пропущених значень."
   ]
  },
  {
   "cell_type": "markdown",
   "metadata": {},
   "source": [
    "## 10. Оголошення вектора ознак і цільової змінної"
   ]
  },
  {
   "cell_type": "code",
   "execution_count": 12,
   "metadata": {},
   "outputs": [],
   "source": [
    "X = df.drop(['class'], axis=1)\n",
    "\n",
    "y = df['class']"
   ]
  },
  {
   "cell_type": "markdown",
   "metadata": {},
   "source": [
    "## 11. Розбиття даних на навчальний та тестовий набори"
   ]
  },
  {
   "cell_type": "code",
   "execution_count": 13,
   "metadata": {},
   "outputs": [],
   "source": [
    "# split X and y into training and testing sets\n",
    "\n",
    "from sklearn.model_selection import train_test_split\n",
    "\n",
    "X_train, X_test, y_train, y_test = train_test_split(X, y, test_size = 0.33, random_state = 42)\n"
   ]
  },
  {
   "cell_type": "code",
   "execution_count": 14,
   "metadata": {},
   "outputs": [
    {
     "data": {
      "text/plain": [
       "((1157, 6), (571, 6))"
      ]
     },
     "execution_count": 14,
     "metadata": {},
     "output_type": "execute_result"
    }
   ],
   "source": [
    "# перевіряємо форму масивів X_train та X_test\n",
    "\n",
    "X_train.shape, X_test.shape"
   ]
  },
  {
   "cell_type": "markdown",
   "metadata": {},
   "source": [
    "## 12. Робота з ознаками\n",
    "\n",
    "\n",
    "**Feature Engineering** – це процес перетворення необроблених даних у корисні ознаки, які допомагають нам краще зрозуміти нашу модель і підвищити надійність її прогнозів. Далі проведено перевірка/перетворення ознак на різних типах змінних.\n",
    "\n",
    "\n",
    "Спочатку перевіримо типи даних змінних."
   ]
  },
  {
   "cell_type": "code",
   "execution_count": 15,
   "metadata": {},
   "outputs": [
    {
     "data": {
      "text/plain": [
       "buying      object\n",
       "maint       object\n",
       "doors       object\n",
       "persons     object\n",
       "lug_boot    object\n",
       "safety      object\n",
       "dtype: object"
      ]
     },
     "execution_count": 15,
     "metadata": {},
     "output_type": "execute_result"
    }
   ],
   "source": [
    "# check data types in X_train\n",
    "\n",
    "X_train.dtypes"
   ]
  },
  {
   "cell_type": "markdown",
   "metadata": {},
   "source": [
    "### Кодування категоріальних змінних\n",
    "\n",
    "\n",
    "Далі проведено перекодування категоріальних змінних."
   ]
  },
  {
   "cell_type": "code",
   "execution_count": 16,
   "metadata": {},
   "outputs": [
    {
     "data": {
      "text/html": [
       "<div>\n",
       "<style scoped>\n",
       "    .dataframe tbody tr th:only-of-type {\n",
       "        vertical-align: middle;\n",
       "    }\n",
       "\n",
       "    .dataframe tbody tr th {\n",
       "        vertical-align: top;\n",
       "    }\n",
       "\n",
       "    .dataframe thead th {\n",
       "        text-align: right;\n",
       "    }\n",
       "</style>\n",
       "<table border=\"1\" class=\"dataframe\">\n",
       "  <thead>\n",
       "    <tr style=\"text-align: right;\">\n",
       "      <th></th>\n",
       "      <th>buying</th>\n",
       "      <th>maint</th>\n",
       "      <th>doors</th>\n",
       "      <th>persons</th>\n",
       "      <th>lug_boot</th>\n",
       "      <th>safety</th>\n",
       "    </tr>\n",
       "  </thead>\n",
       "  <tbody>\n",
       "    <tr>\n",
       "      <th>48</th>\n",
       "      <td>vhigh</td>\n",
       "      <td>vhigh</td>\n",
       "      <td>3</td>\n",
       "      <td>more</td>\n",
       "      <td>med</td>\n",
       "      <td>low</td>\n",
       "    </tr>\n",
       "    <tr>\n",
       "      <th>468</th>\n",
       "      <td>high</td>\n",
       "      <td>vhigh</td>\n",
       "      <td>3</td>\n",
       "      <td>4</td>\n",
       "      <td>small</td>\n",
       "      <td>low</td>\n",
       "    </tr>\n",
       "    <tr>\n",
       "      <th>155</th>\n",
       "      <td>vhigh</td>\n",
       "      <td>high</td>\n",
       "      <td>3</td>\n",
       "      <td>more</td>\n",
       "      <td>small</td>\n",
       "      <td>high</td>\n",
       "    </tr>\n",
       "    <tr>\n",
       "      <th>1721</th>\n",
       "      <td>low</td>\n",
       "      <td>low</td>\n",
       "      <td>5more</td>\n",
       "      <td>more</td>\n",
       "      <td>small</td>\n",
       "      <td>high</td>\n",
       "    </tr>\n",
       "    <tr>\n",
       "      <th>1208</th>\n",
       "      <td>med</td>\n",
       "      <td>low</td>\n",
       "      <td>2</td>\n",
       "      <td>more</td>\n",
       "      <td>small</td>\n",
       "      <td>high</td>\n",
       "    </tr>\n",
       "  </tbody>\n",
       "</table>\n",
       "</div>"
      ],
      "text/plain": [
       "     buying  maint  doors persons lug_boot safety\n",
       "48    vhigh  vhigh      3    more      med    low\n",
       "468    high  vhigh      3       4    small    low\n",
       "155   vhigh   high      3    more    small   high\n",
       "1721    low    low  5more    more    small   high\n",
       "1208    med    low      2    more    small   high"
      ]
     },
     "execution_count": 16,
     "metadata": {},
     "output_type": "execute_result"
    }
   ],
   "source": [
    "X_train.head()"
   ]
  },
  {
   "cell_type": "markdown",
   "metadata": {},
   "source": [
    "З наведених даних зрозуміло, що всі змінні є порядковими категоріальними типами даних."
   ]
  },
  {
   "cell_type": "code",
   "execution_count": 17,
   "metadata": {},
   "outputs": [],
   "source": [
    "# імпортуємо category encoders\n",
    "\n",
    "import category_encoders as ce"
   ]
  },
  {
   "cell_type": "code",
   "execution_count": 18,
   "metadata": {},
   "outputs": [],
   "source": [
    "# encode variables with ordinal encoding\n",
    "\n",
    "encoder = ce.OrdinalEncoder(cols=['buying', 'maint', 'doors', 'persons', 'lug_boot', 'safety'])\n",
    "\n",
    "\n",
    "X_train = encoder.fit_transform(X_train)\n",
    "\n",
    "X_test = encoder.transform(X_test)"
   ]
  },
  {
   "cell_type": "code",
   "execution_count": 19,
   "metadata": {},
   "outputs": [
    {
     "data": {
      "text/html": [
       "<div>\n",
       "<style scoped>\n",
       "    .dataframe tbody tr th:only-of-type {\n",
       "        vertical-align: middle;\n",
       "    }\n",
       "\n",
       "    .dataframe tbody tr th {\n",
       "        vertical-align: top;\n",
       "    }\n",
       "\n",
       "    .dataframe thead th {\n",
       "        text-align: right;\n",
       "    }\n",
       "</style>\n",
       "<table border=\"1\" class=\"dataframe\">\n",
       "  <thead>\n",
       "    <tr style=\"text-align: right;\">\n",
       "      <th></th>\n",
       "      <th>buying</th>\n",
       "      <th>maint</th>\n",
       "      <th>doors</th>\n",
       "      <th>persons</th>\n",
       "      <th>lug_boot</th>\n",
       "      <th>safety</th>\n",
       "    </tr>\n",
       "  </thead>\n",
       "  <tbody>\n",
       "    <tr>\n",
       "      <th>48</th>\n",
       "      <td>1</td>\n",
       "      <td>1</td>\n",
       "      <td>1</td>\n",
       "      <td>1</td>\n",
       "      <td>1</td>\n",
       "      <td>1</td>\n",
       "    </tr>\n",
       "    <tr>\n",
       "      <th>468</th>\n",
       "      <td>2</td>\n",
       "      <td>1</td>\n",
       "      <td>1</td>\n",
       "      <td>2</td>\n",
       "      <td>2</td>\n",
       "      <td>1</td>\n",
       "    </tr>\n",
       "    <tr>\n",
       "      <th>155</th>\n",
       "      <td>1</td>\n",
       "      <td>2</td>\n",
       "      <td>1</td>\n",
       "      <td>1</td>\n",
       "      <td>2</td>\n",
       "      <td>2</td>\n",
       "    </tr>\n",
       "    <tr>\n",
       "      <th>1721</th>\n",
       "      <td>3</td>\n",
       "      <td>3</td>\n",
       "      <td>2</td>\n",
       "      <td>1</td>\n",
       "      <td>2</td>\n",
       "      <td>2</td>\n",
       "    </tr>\n",
       "    <tr>\n",
       "      <th>1208</th>\n",
       "      <td>4</td>\n",
       "      <td>3</td>\n",
       "      <td>3</td>\n",
       "      <td>1</td>\n",
       "      <td>2</td>\n",
       "      <td>2</td>\n",
       "    </tr>\n",
       "  </tbody>\n",
       "</table>\n",
       "</div>"
      ],
      "text/plain": [
       "      buying  maint  doors  persons  lug_boot  safety\n",
       "48         1      1      1        1         1       1\n",
       "468        2      1      1        2         2       1\n",
       "155        1      2      1        1         2       2\n",
       "1721       3      3      2        1         2       2\n",
       "1208       4      3      3        1         2       2"
      ]
     },
     "execution_count": 19,
     "metadata": {},
     "output_type": "execute_result"
    }
   ],
   "source": [
    "X_train.head()"
   ]
  },
  {
   "cell_type": "code",
   "execution_count": 20,
   "metadata": {},
   "outputs": [
    {
     "data": {
      "text/html": [
       "<div>\n",
       "<style scoped>\n",
       "    .dataframe tbody tr th:only-of-type {\n",
       "        vertical-align: middle;\n",
       "    }\n",
       "\n",
       "    .dataframe tbody tr th {\n",
       "        vertical-align: top;\n",
       "    }\n",
       "\n",
       "    .dataframe thead th {\n",
       "        text-align: right;\n",
       "    }\n",
       "</style>\n",
       "<table border=\"1\" class=\"dataframe\">\n",
       "  <thead>\n",
       "    <tr style=\"text-align: right;\">\n",
       "      <th></th>\n",
       "      <th>buying</th>\n",
       "      <th>maint</th>\n",
       "      <th>doors</th>\n",
       "      <th>persons</th>\n",
       "      <th>lug_boot</th>\n",
       "      <th>safety</th>\n",
       "    </tr>\n",
       "  </thead>\n",
       "  <tbody>\n",
       "    <tr>\n",
       "      <th>599</th>\n",
       "      <td>2</td>\n",
       "      <td>2</td>\n",
       "      <td>4</td>\n",
       "      <td>3</td>\n",
       "      <td>1</td>\n",
       "      <td>2</td>\n",
       "    </tr>\n",
       "    <tr>\n",
       "      <th>1201</th>\n",
       "      <td>4</td>\n",
       "      <td>3</td>\n",
       "      <td>3</td>\n",
       "      <td>2</td>\n",
       "      <td>1</td>\n",
       "      <td>3</td>\n",
       "    </tr>\n",
       "    <tr>\n",
       "      <th>628</th>\n",
       "      <td>2</td>\n",
       "      <td>2</td>\n",
       "      <td>2</td>\n",
       "      <td>3</td>\n",
       "      <td>3</td>\n",
       "      <td>3</td>\n",
       "    </tr>\n",
       "    <tr>\n",
       "      <th>1498</th>\n",
       "      <td>3</td>\n",
       "      <td>2</td>\n",
       "      <td>2</td>\n",
       "      <td>2</td>\n",
       "      <td>1</td>\n",
       "      <td>3</td>\n",
       "    </tr>\n",
       "    <tr>\n",
       "      <th>1263</th>\n",
       "      <td>4</td>\n",
       "      <td>3</td>\n",
       "      <td>4</td>\n",
       "      <td>1</td>\n",
       "      <td>1</td>\n",
       "      <td>1</td>\n",
       "    </tr>\n",
       "  </tbody>\n",
       "</table>\n",
       "</div>"
      ],
      "text/plain": [
       "      buying  maint  doors  persons  lug_boot  safety\n",
       "599        2      2      4        3         1       2\n",
       "1201       4      3      3        2         1       3\n",
       "628        2      2      2        3         3       3\n",
       "1498       3      2      2        2         1       3\n",
       "1263       4      3      4        1         1       1"
      ]
     },
     "execution_count": 20,
     "metadata": {},
     "output_type": "execute_result"
    }
   ],
   "source": [
    "X_test.head()"
   ]
  },
  {
   "cell_type": "markdown",
   "metadata": {},
   "source": [
    "Після перекодування маємо набір для навчання та тестування, готовий для створення моделі. "
   ]
  },
  {
   "cell_type": "markdown",
   "metadata": {},
   "source": [
    "## 13. Класифікатор дерева рішень з критерієм на підставі індексу Джіні"
   ]
  },
  {
   "cell_type": "code",
   "execution_count": 21,
   "metadata": {},
   "outputs": [],
   "source": [
    "# import DecisionTreeClassifier\n",
    "\n",
    "from sklearn.tree import DecisionTreeClassifier\n"
   ]
  },
  {
   "cell_type": "code",
   "execution_count": 22,
   "metadata": {},
   "outputs": [
    {
     "data": {
      "text/plain": [
       "DecisionTreeClassifier(class_weight=None, criterion='gini', max_depth=3,\n",
       "            max_features=None, max_leaf_nodes=None,\n",
       "            min_impurity_decrease=0.0, min_impurity_split=None,\n",
       "            min_samples_leaf=1, min_samples_split=2,\n",
       "            min_weight_fraction_leaf=0.0, presort=False, random_state=0,\n",
       "            splitter='best')"
      ]
     },
     "execution_count": 22,
     "metadata": {},
     "output_type": "execute_result"
    }
   ],
   "source": [
    "# Створюємо екземпляр DecisionTreeClassifier з критерієм на основі індексу gini \n",
    "\n",
    "clf_gini = DecisionTreeClassifier(criterion='gini', max_depth=3, random_state=0)\n",
    "\n",
    "\n",
    "# fit the model\n",
    "clf_gini.fit(X_train, y_train)\n"
   ]
  },
  {
   "cell_type": "markdown",
   "metadata": {},
   "source": [
    "### Результати прогнозу за тестовим набором даних з використанням gini index"
   ]
  },
  {
   "cell_type": "code",
   "execution_count": 23,
   "metadata": {},
   "outputs": [],
   "source": [
    "y_pred_gini = clf_gini.predict(X_test)"
   ]
  },
  {
   "cell_type": "markdown",
   "metadata": {},
   "source": [
    "### Перевіряємо оцінку точності за критерієм індексу Джіні"
   ]
  },
  {
   "cell_type": "code",
   "execution_count": 24,
   "metadata": {},
   "outputs": [
    {
     "name": "stdout",
     "output_type": "stream",
     "text": [
      "Model accuracy score with criterion gini index: 0.8021\n"
     ]
    }
   ],
   "source": [
    "from sklearn.metrics import accuracy_score\n",
    "\n",
    "print('Оцінка точності моделі за критерієм індексу Джіні: {0:0.4f}'. format(accuracy_score(y_test, y_pred_gini)))"
   ]
  },
  {
   "cell_type": "markdown",
   "metadata": {},
   "source": [
    "Тут **y_test** — справжні мітки класу, а **y_pred_gini** — прогнозовані мітки класу в тестовому наборі."
   ]
  },
  {
   "cell_type": "markdown",
   "metadata": {},
   "source": [
    "### Порівняння точності прогнозу за навчальним та тестовим набором\n",
    "\n",
    "Нижче наведено порівняння точності прогнозу за навчальним та тестовим набором, щоб перевірити наявність переобладнання."
   ]
  },
  {
   "cell_type": "code",
   "execution_count": 25,
   "metadata": {},
   "outputs": [
    {
     "data": {
      "text/plain": [
       "array(['unacc', 'unacc', 'unacc', ..., 'unacc', 'unacc', 'acc'],\n",
       "      dtype=object)"
      ]
     },
     "execution_count": 25,
     "metadata": {},
     "output_type": "execute_result"
    }
   ],
   "source": [
    "y_pred_train_gini = clf_gini.predict(X_train)\n",
    "\n",
    "y_pred_train_gini"
   ]
  },
  {
   "cell_type": "code",
   "execution_count": 26,
   "metadata": {},
   "outputs": [
    {
     "name": "stdout",
     "output_type": "stream",
     "text": [
      "Training-set accuracy score: 0.7865\n"
     ]
    }
   ],
   "source": [
    "print('Training-set accuracy score: {0:0.4f}'. format(accuracy_score(y_train, y_pred_train_gini)))"
   ]
  },
  {
   "cell_type": "markdown",
   "metadata": {},
   "source": [
    "### Перевірка наявності перенавчання та недостатнього навчання"
   ]
  },
  {
   "cell_type": "code",
   "execution_count": 27,
   "metadata": {},
   "outputs": [
    {
     "name": "stdout",
     "output_type": "stream",
     "text": [
      "Training set score: 0.7865\n",
      "Test set score: 0.8021\n"
     ]
    }
   ],
   "source": [
    "# print the scores on training and test set\n",
    "\n",
    "print('Training set score: {:.4f}'.format(clf_gini.score(X_train, y_train)))\n",
    "\n",
    "print('Test set score: {:.4f}'.format(clf_gini.score(X_test, y_test)))"
   ]
  },
  {
   "cell_type": "markdown",
   "metadata": {},
   "source": [
    "Отримана оцінка точності навчального набору становить 0,7865, а точність тестового набору – 0,8021. Ці дві величини цілком порівнянні. Отже, жодних ознак перенавчання немає.\n"
   ]
  },
  {
   "cell_type": "markdown",
   "metadata": {},
   "source": [
    "## 14. Decision Tree Classifier з критерієм ентропії"
   ]
  },
  {
   "cell_type": "code",
   "execution_count": 28,
   "metadata": {},
   "outputs": [
    {
     "data": {
      "text/plain": [
       "DecisionTreeClassifier(class_weight=None, criterion='entropy', max_depth=3,\n",
       "            max_features=None, max_leaf_nodes=None,\n",
       "            min_impurity_decrease=0.0, min_impurity_split=None,\n",
       "            min_samples_leaf=1, min_samples_split=2,\n",
       "            min_weight_fraction_leaf=0.0, presort=False, random_state=0,\n",
       "            splitter='best')"
      ]
     },
     "execution_count": 28,
     "metadata": {},
     "output_type": "execute_result"
    }
   ],
   "source": [
    "# Створити екземпляр DecisionTreeClassifier з критерієм entropy\n",
    "\n",
    "clf_en = DecisionTreeClassifier(criterion='entropy', max_depth=3, random_state=0)\n",
    "\n",
    "\n",
    "# fit the model\n",
    "clf_en.fit(X_train, y_train)"
   ]
  },
  {
   "cell_type": "markdown",
   "metadata": {},
   "source": [
    "### Результати прогнозу за тестовим набором з використанням критерію entropy"
   ]
  },
  {
   "cell_type": "code",
   "execution_count": 29,
   "metadata": {},
   "outputs": [],
   "source": [
    "y_pred_en = clf_en.predict(X_test)"
   ]
  },
  {
   "cell_type": "markdown",
   "metadata": {},
   "source": [
    "### Перевірка точності прогнозу за допомогою критерію entropy"
   ]
  },
  {
   "cell_type": "code",
   "execution_count": 30,
   "metadata": {},
   "outputs": [
    {
     "name": "stdout",
     "output_type": "stream",
     "text": [
      "Model accuracy score with criterion entropy: 0.8021\n"
     ]
    }
   ],
   "source": [
    "from sklearn.metrics import accuracy_score\n",
    "\n",
    "print('Model accuracy score with criterion entropy: {0:0.4f}'. format(accuracy_score(y_test, y_pred_en)))"
   ]
  },
  {
   "cell_type": "markdown",
   "metadata": {},
   "source": [
    "### Поріняння точності прогнозу за навчальною і тестовою вибірками\n",
    "\n",
    "\n",
    "Нижче наведено результати прогнозу за навчальною і тестовою вибірками з метою перевірки наявності перенавчання."
   ]
  },
  {
   "cell_type": "code",
   "execution_count": 31,
   "metadata": {},
   "outputs": [
    {
     "data": {
      "text/plain": [
       "array(['unacc', 'unacc', 'unacc', ..., 'unacc', 'unacc', 'acc'],\n",
       "      dtype=object)"
      ]
     },
     "execution_count": 31,
     "metadata": {},
     "output_type": "execute_result"
    }
   ],
   "source": [
    "y_pred_train_en = clf_en.predict(X_train)\n",
    "\n",
    "y_pred_train_en"
   ]
  },
  {
   "cell_type": "code",
   "execution_count": 32,
   "metadata": {},
   "outputs": [
    {
     "name": "stdout",
     "output_type": "stream",
     "text": [
      "Training-set accuracy score: 0.7865\n"
     ]
    }
   ],
   "source": [
    "print('Training-set accuracy score: {0:0.4f}'. format(accuracy_score(y_train, y_pred_train_en)))"
   ]
  },
  {
   "cell_type": "markdown",
   "metadata": {},
   "source": [
    "### Перевірка наявності перенавчання та недостатнього навчання моделі "
   ]
  },
  {
   "cell_type": "code",
   "execution_count": 33,
   "metadata": {},
   "outputs": [
    {
     "name": "stdout",
     "output_type": "stream",
     "text": [
      "Training set score: 0.7865\n",
      "Test set score: 0.8021\n"
     ]
    }
   ],
   "source": [
    "# print the scores on training and test set\n",
    "\n",
    "print('Training set score: {:.4f}'.format(clf_en.score(X_train, y_train)))\n",
    "\n",
    "print('Test set score: {:.4f}'.format(clf_en.score(X_test, y_test)))"
   ]
  },
  {
   "cell_type": "markdown",
   "metadata": {},
   "source": [
    "Результати оцінки навчального набору та тестового набору така сама, як і вище. Оцінка точності навчального набору становить 0,7865, а точність тестового набору – 0,8021. Ці дві величини цілком порівнянні. Отже, жодних ознак переобладнання немає.\n"
   ]
  },
  {
   "cell_type": "markdown",
   "metadata": {},
   "source": [
    "На підставі наведеного вище аналізу, можна зробити висновок, що точність створеної моделі класифікації досить добра. Навчена модель добре справляється з прогнозуванням міток класів.\n",
    "\n",
    "\n",
    "Але вона не дає основного розподілу значень. Крім того, розгляд лише результатів оцінки точності не повідомляє про тип помилок, які робить створений класифікатор.\n",
    "\n",
    "\n",
    "Більш змістоівні результати для аналізу помилок надає інструмент Confusion matrix."
   ]
  },
  {
   "cell_type": "markdown",
   "metadata": {},
   "source": [
    "## 15. Confusion matrix\n",
    "\n",
    "Матриця помилок — це інструмент для узагальнення продуктивності алгоритму класифікації. Матриця помилок дасть нам чітке уявлення про продуктивність моделі класифікації та типи помилок, створених моделлю. Вона містить зведення правильних і неправильних прогнозів, розбитих за кожною категорією. Анотацію оформлюють у вигляді таблиці.\n",
    "\n",
    "\n",
    "Під час оцінки продуктивності моделі класифікації можливі чотири типи результатів, а саме: \n",
    "\n",
    "**Справжні позитивні результати (TP)** – Справжні позитивні результати виникають, коли ми передбачаємо, що спостереження належить до певного класу, а спостереження насправді належить до цього класу.\n",
    "\n",
    "\n",
    "**Справжні негативи (TN)** – Справжні негативи виникають, коли ми прогнозуємо, що спостереження не належить до певного класу, а спостереження насправді не належить до цього класу.\n",
    "\n",
    "\n",
    "**Помилкові позитивні результати (FP)** – помилкові позитивні результати виникають, коли ми передбачаємо, що спостереження належить до певного класу, але спостереження насправді не належить до цього класу. Цей тип помилки називається **помилкою типу I.**\n",
    "\n",
    "\n",
    "**Помилкові негативні результати (FN)** – помилкові негативні результати виникають, коли ми передбачаємо, що спостереження не належить до певного класу, але спостереження насправді належить до цього класу. Це дуже серйозна помилка, яка називається **помилкою II типу.**\n",
    "\n",
    "\n",
    "Ці чотири результати узагальнено в матриці помилок, наведеній нижче."
   ]
  },
  {
   "cell_type": "code",
   "execution_count": 34,
   "metadata": {},
   "outputs": [
    {
     "name": "stdout",
     "output_type": "stream",
     "text": [
      "Confusion matrix\n",
      "\n",
      " [[ 73   0  56   0]\n",
      " [ 20   0   0   0]\n",
      " [ 12   0 385   0]\n",
      " [ 25   0   0   0]]\n"
     ]
    }
   ],
   "source": [
    "# Друк иатриці помилок (Confusion Matrix) та розріз її на 4 частини\n",
    "\n",
    "from sklearn.metrics import confusion_matrix\n",
    "\n",
    "cm = confusion_matrix(y_test, y_pred_en)\n",
    "\n",
    "print('Confusion matrix\\n\\n', cm)\n",
    "\n"
   ]
  },
  {
   "cell_type": "markdown",
   "metadata": {},
   "source": [
    "## 16. Звіт про класифікацію (Classification Report)\n",
    "\n",
    "\n",
    "**Звіт про класифікацію (Classification Report)** – ще один спосіб оцінити ефективність моделі класифікації. Він відображає оцінки **precision**, **recall**, **f1** і **support** для моделі. \n",
    "\n",
    "В наступному прикладі роздруковано класифікаційний звіт:"
   ]
  },
  {
   "cell_type": "code",
   "execution_count": 35,
   "metadata": {
    "scrolled": true
   },
   "outputs": [
    {
     "name": "stdout",
     "output_type": "stream",
     "text": [
      "              precision    recall  f1-score   support\n",
      "\n",
      "         acc       0.56      0.57      0.56       129\n",
      "        good       0.00      0.00      0.00        20\n",
      "       unacc       0.87      0.97      0.92       397\n",
      "       vgood       0.00      0.00      0.00        25\n",
      "\n",
      "   micro avg       0.80      0.80      0.80       571\n",
      "   macro avg       0.36      0.38      0.37       571\n",
      "weighted avg       0.73      0.80      0.77       571\n",
      "\n"
     ]
    }
   ],
   "source": [
    "from sklearn.metrics import classification_report\n",
    "\n",
    "print(classification_report(y_test, y_pred_en))"
   ]
  },
  {
   "cell_type": "markdown",
   "metadata": {},
   "source": [
    "## 17. Результати і висновки\n",
    "\n",
    "\n",
    "1. У цьому проекті побудовано модель класифікатора DesignTreeClassifier для прогнозування безпеки автомобіля. Створено дві моделі, одну з критерієм «індекс Джіні», а іншу — з критерієм «ентропія». Моделі дуже хороші показники, про що свідчить точність моделі в обох випадках, яка дорівнює 0,8021.\n",
    "2. У моделі з критерієм «індекс Джіні» оцінка точності навчального набору становить 0,7865, а точність тестового набору – 0,8021. Ці дві величини цілком порівнянні. Отже, жодних ознак переобладнання немає.\n",
    "3. Аналогічно, у моделі з критерієм «ентропія» оцінка точності навчального набору становить 0,7865, а точність тестового набору — 0,8021. Отримано ті самі значення, що й у випадку з критерієм «gini». Отже, жодних ознак переобладнання немає.\n",
    "4. В обох випадках оцінка точності навчального та тестового набору однакова. Це може статися через малий набір даних.\n",
    "5. Матриця помилок та звіт про класифікацію дають чітку оцінку продуктивністі моделі."
   ]
  },
  {
   "cell_type": "code",
   "execution_count": null,
   "metadata": {},
   "outputs": [],
   "source": []
  }
 ],
 "metadata": {
  "kernelspec": {
   "display_name": "Python 3",
   "language": "python",
   "name": "python3"
  },
  "language_info": {
   "codemirror_mode": {
    "name": "ipython",
    "version": 3
   },
   "file_extension": ".py",
   "mimetype": "text/x-python",
   "name": "python",
   "nbconvert_exporter": "python",
   "pygments_lexer": "ipython3",
   "version": "3.7.0"
  }
 },
 "nbformat": 4,
 "nbformat_minor": 2
}
