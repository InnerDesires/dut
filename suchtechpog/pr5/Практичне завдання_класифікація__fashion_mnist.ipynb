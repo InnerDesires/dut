{
  "cells": [
    {
      "cell_type": "markdown",
      "metadata": {},
      "source": [
        "Сучасні технології програмування в системах зі штучним інтелектом.\n",
        "Практичне завдання 5. Класифікація одягу за допомогою нейронних мереж.\n",
        "Виконав: студент групи ШІДМ-51 Тертишний Владислав\n"
      ]
    },
    {
      "cell_type": "code",
      "execution_count": 20,
      "metadata": {
        "id": "ubvVFU8u4BGx"
      },
      "outputs": [],
      "source": [
        "import tensorflow as tf\n",
        "from tensorflow import keras\n",
        "\n",
        "import matplotlib.pyplot as plt\n",
        "import numpy as np"
      ]
    },
    {
      "cell_type": "code",
      "execution_count": 21,
      "metadata": {
        "colab": {
          "base_uri": "https://localhost:8080/"
        },
        "id": "hpZP4VA04fEf",
        "outputId": "f3194028-dcc9-4f7b-fcf0-0a56845fbd53"
      },
      "outputs": [],
      "source": [
        "fashion_mnist = tf.keras.datasets.fashion_mnist\n",
        "(train_images, train_labels), (test_images, test_labels) = fashion_mnist.load_data()"
      ]
    },
    {
      "cell_type": "code",
      "execution_count": 23,
      "metadata": {
        "id": "SL43CmA95KgT"
      },
      "outputs": [],
      "source": [
        "train_images = train_images /255.\n",
        "test_images = test_images / 255"
      ]
    },
    {
      "cell_type": "code",
      "execution_count": 24,
      "metadata": {
        "id": "JePMyRW_5EOL"
      },
      "outputs": [],
      "source": [
        "model = tf.keras.Sequential([\n",
        "    tf.keras.layers.Flatten(input_shape=(28, 28)),\n",
        "    tf.keras.layers.Dense(128, activation=tf.nn.relu),\n",
        "    tf.keras.layers.Dense(10, activation=tf.nn.softmax)\n",
        "])"
      ]
    },
    {
      "cell_type": "markdown",
      "metadata": {
        "id": "POFVtTNiHgXI"
      },
      "source": [
        "Запуск наведеного нижче коду створює файл `model_plot.png` із графіним виглядом створеної моделі."
      ]
    },
    {
      "cell_type": "code",
      "execution_count": 25,
      "metadata": {
        "colab": {
          "base_uri": "https://localhost:8080/",
          "height": 422
        },
        "id": "KsYxMgWJAFR9",
        "outputId": "6a7b29e8-5947-444f-c5d6-4b36445b5943"
      },
      "outputs": [
        {
          "name": "stdout",
          "output_type": "stream",
          "text": [
            "You must install pydot (`pip install pydot`) for `plot_model` to work.\n"
          ]
        }
      ],
      "source": [
        "tf.keras.utils.plot_model(model, to_file='model.png', show_shapes=True)"
      ]
    },
    {
      "cell_type": "code",
      "execution_count": 26,
      "metadata": {
        "colab": {
          "base_uri": "https://localhost:8080/",
          "height": 1000
        },
        "id": "owQ-f7MXMQxL",
        "outputId": "346840fd-42f8-4bfa-d9e8-4b4fd3bb2791"
      },
      "outputs": [],
      "source": [
        "from nnv import NNV\n",
        "plt.rcParams[\"figure.figsize\"] = 200,50\n",
        "\n",
        "layersList = [\n",
        "    {\"title\":\"Input\\n(784 flatten)\", \"units\": 784, \"color\": \"Blue\"},\n",
        "    {\"title\":\"Hidden 1\\n(relu: 128)\", \"units\": 128},\n",
        "    {\"title\":\"Output\\n(softmax: 10)\", \"units\": 10,\"color\": \"Green\"},\n",
        "]"
      ]
    },
    {
      "cell_type": "code",
      "execution_count": 27,
      "metadata": {
        "id": "u_OhEwLf6ReB"
      },
      "outputs": [],
      "source": [
        "model.compile(\n",
        "    optimizer='adam',\n",
        "    loss='sparse_categorical_crossentropy',\n",
        "    metrics=['accuracy']\n",
        ")"
      ]
    },
    {
      "cell_type": "code",
      "execution_count": 28,
      "metadata": {
        "colab": {
          "base_uri": "https://localhost:8080/",
          "height": 208
        },
        "id": "_57YoEpt65X4",
        "outputId": "81181e86-4bd8-4973-ef92-8a3edff35c45"
      },
      "outputs": [
        {
          "name": "stdout",
          "output_type": "stream",
          "text": [
            "Epoch 1/5\n",
            "\u001b[1m1875/1875\u001b[0m \u001b[32m━━━━━━━━━━━━━━━━━━━━\u001b[0m\u001b[37m\u001b[0m \u001b[1m3s\u001b[0m 2ms/step - accuracy: 0.7841 - loss: 0.6161\n",
            "Epoch 2/5\n",
            "\u001b[1m1875/1875\u001b[0m \u001b[32m━━━━━━━━━━━━━━━━━━━━\u001b[0m\u001b[37m\u001b[0m \u001b[1m3s\u001b[0m 1ms/step - accuracy: 0.8636 - loss: 0.3801\n",
            "Epoch 3/5\n",
            "\u001b[1m1875/1875\u001b[0m \u001b[32m━━━━━━━━━━━━━━━━━━━━\u001b[0m\u001b[37m\u001b[0m \u001b[1m2s\u001b[0m 1ms/step - accuracy: 0.8775 - loss: 0.3415\n",
            "Epoch 4/5\n",
            "\u001b[1m1875/1875\u001b[0m \u001b[32m━━━━━━━━━━━━━━━━━━━━\u001b[0m\u001b[37m\u001b[0m \u001b[1m3s\u001b[0m 1ms/step - accuracy: 0.8846 - loss: 0.3121\n",
            "Epoch 5/5\n",
            "\u001b[1m1875/1875\u001b[0m \u001b[32m━━━━━━━━━━━━━━━━━━━━\u001b[0m\u001b[37m\u001b[0m \u001b[1m3s\u001b[0m 1ms/step - accuracy: 0.8944 - loss: 0.2897\n"
          ]
        },
        {
          "data": {
            "text/plain": [
              "<keras.src.callbacks.history.History at 0x17b0cb530>"
            ]
          },
          "execution_count": 28,
          "metadata": {},
          "output_type": "execute_result"
        }
      ],
      "source": [
        "model.fit(train_images, train_labels, epochs=5)"
      ]
    },
    {
      "cell_type": "code",
      "execution_count": 29,
      "metadata": {
        "colab": {
          "base_uri": "https://localhost:8080/",
          "height": 52
        },
        "id": "1zPZAVukALaX",
        "outputId": "08fdef81-98a4-4242-d6ee-4c16fee3f61f"
      },
      "outputs": [
        {
          "name": "stdout",
          "output_type": "stream",
          "text": [
            "\u001b[1m313/313\u001b[0m \u001b[32m━━━━━━━━━━━━━━━━━━━━\u001b[0m\u001b[37m\u001b[0m \u001b[1m0s\u001b[0m 532us/step - accuracy: 0.8744 - loss: 0.3438\n",
            "Model Accuracy: 87.43000030517578%\n"
          ]
        }
      ],
      "source": [
        "test_loss, test_acc = model.evaluate(test_images, test_labels)\n",
        "print(f\"Model Accuracy: {test_acc * 100}%\")"
      ]
    },
    {
      "cell_type": "markdown",
      "metadata": {
        "id": "VMn-Kkx_BYSz"
      },
      "source": [
        "Створена модель працює з точністю 87,75%. Надамо декілька тестових прикладів, щоб подивитись на роботу з результатами."
      ]
    },
    {
      "cell_type": "code",
      "execution_count": 30,
      "metadata": {
        "colab": {
          "base_uri": "https://localhost:8080/",
          "height": 69
        },
        "id": "KBiq6YxA_wA0",
        "outputId": "9e4b852d-1575-4014-e1c6-f1b72138bc6f"
      },
      "outputs": [
        {
          "name": "stdout",
          "output_type": "stream",
          "text": [
            "\u001b[1m313/313\u001b[0m \u001b[32m━━━━━━━━━━━━━━━━━━━━\u001b[0m\u001b[37m\u001b[0m \u001b[1m0s\u001b[0m 419us/step\n"
          ]
        },
        {
          "data": {
            "text/plain": [
              "array([8.01550959e-06, 9.00107142e-11, 9.94770050e-01, 5.57322577e-10,\n",
              "       3.14919604e-03, 4.41536673e-13, 2.07266980e-03, 7.55238970e-14,\n",
              "       6.33427391e-08, 1.02243795e-11], dtype=float32)"
            ]
          },
          "execution_count": 30,
          "metadata": {},
          "output_type": "execute_result"
        }
      ],
      "source": [
        "predictions = model.predict(test_images)\n",
        "predictions[1]"
      ]
    },
    {
      "cell_type": "markdown",
      "metadata": {
        "id": "uPc5-TFcDMtW"
      },
      "source": [
        "Більшість записів у масиві передбачень дуже близькі до 0. Вони записані в науковій нотації – значення після e є числом десяткових знаків для коригування значення (наприклад, 5.1 e-04 насправді 0,00051). Запис, який виділяється, це `predictions[0][3]` з 0.9953 (9.9527609e-01), або \n",
        "99,53%, упевненістю, що це зображення слід класифікувати як завантаження!\n",
        "\n",
        "Нижче визначимо мітку класу, ми можемо спростити вивід:"
      ]
    },
    {
      "cell_type": "code",
      "execution_count": 31,
      "metadata": {
        "colab": {
          "base_uri": "https://localhost:8080/",
          "height": 34
        },
        "id": "7qL62gpG6_3c",
        "outputId": "dec6a656-c1ec-4c55-ffd8-1e028398d47d"
      },
      "outputs": [
        {
          "data": {
            "text/plain": [
              "np.int64(2)"
            ]
          },
          "execution_count": 31,
          "metadata": {},
          "output_type": "execute_result"
        }
      ],
      "source": [
        "np.argmax(predictions[1])"
      ]
    },
    {
      "cell_type": "markdown",
      "metadata": {
        "id": "DhclaNb3Dj4T"
      },
      "source": [
        "Нарешті, ми можемо перевірити це передбачення, подивившись на етикетку:"
      ]
    },
    {
      "cell_type": "code",
      "execution_count": 32,
      "metadata": {
        "colab": {
          "base_uri": "https://localhost:8080/",
          "height": 34
        },
        "id": "oLjRFFrgDmUL",
        "outputId": "f727079d-b8bb-4527-b84b-ca54f60751d9"
      },
      "outputs": [
        {
          "data": {
            "text/plain": [
              "np.uint8(2)"
            ]
          },
          "execution_count": 32,
          "metadata": {},
          "output_type": "execute_result"
        }
      ],
      "source": [
        "test_labels[1]"
      ]
    },
    {
      "cell_type": "code",
      "execution_count": 37,
      "metadata": {
        "colab": {
          "base_uri": "https://localhost:8080/",
          "height": 320
        },
        "id": "m-MCYc6OECPw",
        "outputId": "2495558b-a876-4b43-fba3-da85596c1881"
      },
      "outputs": [
        {
          "data": {
            "text/plain": [
              "<matplotlib.image.AxesImage at 0x30fbb11f0>"
            ]
          },
          "execution_count": 37,
          "metadata": {},
          "output_type": "execute_result"
        },
        {
          "data": {
            "image/png": "[encoded data removed]",
            "text/plain": [
              "<Figure size 1000x500 with 1 Axes>"
            ]
          },
          "metadata": {},
          "output_type": "display_data"
        }
      ],
      "source": [
        "plt.figure(figsize=(10,5))\n",
        "plt.imshow(test_images[1])"
      ]
    },
    {
      "cell_type": "markdown",
      "metadata": {
        "id": "LhwA2itYD91r"
      },
      "source": [
        "Таким чином, за допомогою найпростішої нейронної мережи зображення сорочки класифіковано як сорочку!\n"
      ]
    },
    {
      "cell_type": "markdown",
      "metadata": {},
      "source": [
        "## **Завдання**"
      ]
    },
    {
      "cell_type": "markdown",
      "metadata": {},
      "source": [
        "1. Дослідити, як впливає на досягнуту точність клькість епох навчання, додавання прихованих шарів та кількості нейронів в ціх шарах.\n",
        "2. Зробити ще декілька перевірок, як класифікуються інши тестові зображення."
      ]
    },
    {
      "cell_type": "code",
      "execution_count": 34,
      "metadata": {},
      "outputs": [
        {
          "name": "stdout",
          "output_type": "stream",
          "text": [
            "\n",
            "Training with 5 epochs:\n",
            "\u001b[1m313/313\u001b[0m \u001b[32m━━━━━━━━━━━━━━━━━━━━\u001b[0m\u001b[37m\u001b[0m \u001b[1m0s\u001b[0m 550us/step - accuracy: 0.8753 - loss: 0.3399\n",
            "\n",
            "Test accuracy with 5 epochs: 87.47%\n",
            "\n",
            "Training with 10 epochs:\n",
            "\u001b[1m313/313\u001b[0m \u001b[32m━━━━━━━━━━━━━━━━━━━━\u001b[0m\u001b[37m\u001b[0m \u001b[1m0s\u001b[0m 553us/step - accuracy: 0.8812 - loss: 0.3246\n",
            "\n",
            "Test accuracy with 10 epochs: 88.30%\n",
            "\n",
            "Training with 15 epochs:\n",
            "\u001b[1m313/313\u001b[0m \u001b[32m━━━━━━━━━━━━━━━━━━━━\u001b[0m\u001b[37m\u001b[0m \u001b[1m0s\u001b[0m 560us/step - accuracy: 0.8887 - loss: 0.3330\n",
            "\n",
            "Test accuracy with 15 epochs: 88.80%\n",
            "\n",
            "Training with 20 epochs:\n",
            "\u001b[1m313/313\u001b[0m \u001b[32m━━━━━━━━━━━━━━━━━━━━\u001b[0m\u001b[37m\u001b[0m \u001b[1m0s\u001b[0m 535us/step - accuracy: 0.8863 - loss: 0.3505\n",
            "\n",
            "Test accuracy with 20 epochs: 88.84%\n"
          ]
        }
      ],
      "source": [
        "# Test with different numbers of epochs\n",
        "epochs_to_test = [5, 10, 15, 20]\n",
        "\n",
        "for num_epochs in epochs_to_test:\n",
        "    print(f\"\\nTraining with {num_epochs} epochs:\")\n",
        "    model = tf.keras.Sequential([\n",
        "        tf.keras.layers.Flatten(input_shape=(28, 28)),\n",
        "        tf.keras.layers.Dense(128, activation=tf.nn.relu),\n",
        "        tf.keras.layers.Dense(10, activation=tf.nn.softmax)\n",
        "    ])\n",
        "    \n",
        "    model.compile(optimizer='adam',\n",
        "                 loss='sparse_categorical_crossentropy',\n",
        "                 metrics=['accuracy'])\n",
        "                 \n",
        "    model.fit(train_images, train_labels, epochs=num_epochs, verbose=0)\n",
        "    test_loss, test_acc = model.evaluate(test_images, test_labels)\n",
        "    print(f\"\\nTest accuracy with {num_epochs} epochs: {test_acc * 100:.2f}%\")"
      ]
    },
    {
      "cell_type": "markdown",
      "metadata": {},
      "source": [
        "1. **Навчання з 5 епохами**:\n",
        "- Точність на тестових даних: 87.47%\n",
        "- Це базовий результат, який показує, що модель досягла непоганої точності навіть з невеликою кількістю епох\n",
        "- Значення функції втрат (loss): 0.3399 вказує на помірний рівень помилок\n",
        "\n",
        "2. **Навчання з 10 епохами**:\n",
        "- Точність зросла до 88.30%\n",
        "- Спостерігається покращення на ~0.83% порівняно з 5 епохами\n",
        "- Функція втрат зменшилась до 0.3246, що свідчить про кращу оптимізацію моделі\n",
        "\n",
        "3. **Навчання з 15 епохами**:\n",
        "- Досягнуто точності 88.80%\n",
        "- Додаткове покращення на ~0.50% порівняно з 10 епохами\n",
        "- Функція втрат дещо збільшилась (0.3330), що може вказувати на початок перенавчання\n",
        "\n",
        "4. **Навчання з 20 епохами**:\n",
        "- Точність становить 88.84%\n",
        "- Покращення майже незначне (~0.04%) порівняно з 15 епохами\n",
        "- Функція втрат продовжує зростати (0.3505), що підтверджує ознаки перенавчання\n",
        "\n",
        "**Загальні висновки**:\n",
        "1. Найбільший приріст точності спостерігається при збільшенні епох з 5 до 10\n",
        "2. Після 15 епох покращення точності стає незначним\n",
        "3. Оптимальна кількість епох для цієї моделі - близько 15, оскільки:\n",
        "   - Подальше збільшення епох дає мінімальне покращення точності\n",
        "   - З'являються ознаки перенавчання (зростання функції втрат)\n",
        "4. Модель досягла хорошої точності ~88.8% на задачі класифікації одягу\n"
      ]
    },
    {
      "cell_type": "code",
      "execution_count": 35,
      "metadata": {},
      "outputs": [
        {
          "name": "stdout",
          "output_type": "stream",
          "text": [
            "\n",
            "Training model with additional hidden layer:\n"
          ]
        },
        {
          "name": "stdout",
          "output_type": "stream",
          "text": [
            "\u001b[1m313/313\u001b[0m \u001b[32m━━━━━━━━━━━━━━━━━━━━\u001b[0m\u001b[37m\u001b[0m \u001b[1m0s\u001b[0m 612us/step - accuracy: 0.8700 - loss: 0.3514\n",
            "\n",
            "Test accuracy with additional layer: 86.83%\n"
          ]
        }
      ],
      "source": [
        "# Test with additional hidden layer\n",
        "model2 = tf.keras.Sequential([\n",
        "    tf.keras.layers.Flatten(input_shape=(28, 28)),\n",
        "    tf.keras.layers.Dense(128, activation=tf.nn.relu),\n",
        "    tf.keras.layers.Dense(64, activation=tf.nn.relu),  # Additional hidden layer\n",
        "    tf.keras.layers.Dense(10, activation=tf.nn.softmax)\n",
        "])\n",
        "\n",
        "model2.compile(optimizer='adam',\n",
        "              loss='sparse_categorical_crossentropy',\n",
        "              metrics=['accuracy'])\n",
        "\n",
        "print(\"\\nTraining model with additional hidden layer:\")\n",
        "model2.fit(train_images, train_labels, epochs=5, verbose=0)\n",
        "test_loss, test_acc = model2.evaluate(test_images, test_labels)\n",
        "print(f\"\\nTest accuracy with additional layer: {test_acc * 100:.2f}%\")"
      ]
    },
    {
      "cell_type": "markdown",
      "metadata": {},
      "source": [
        "**Результати тестування моделі з додатковим прихованим шаром:**\n",
        "- Точність на тестових даних: 86.83%\n",
        "- Значення функції втрат (loss): 0.3514\n",
        "\n",
        "**Порівняння з попередньою архітектурою:**\n",
        "1. Оригінальна модель (з одним прихованим шаром):\n",
        "   - Мала точність близько 88.8% при 15 епохах\n",
        "   - Показувала кращі результати класифікації\n",
        "\n",
        "2. Модель з додатковим прихованим шаром:\n",
        "   - Точність знизилась до 86.83%\n",
        "   - Функція втрат дещо збільшилась\n",
        "\n",
        "**Висновки:**\n",
        "1. Додавання другого прихованого шару не покращило продуктивність моделі\n",
        "2. Причини зниження точності можуть бути наступними:\n",
        "   - Ускладнення архітектури призвело до перенавчання\n",
        "   - Для даної задачі класифікації одягу простіша архітектура виявилась ефективнішою\n",
        "   - Можливо, потрібно збільшити кількість епох навчання для складнішої архітектури\n",
        "\n",
        "**Рекомендації:**\n",
        "1. Залишити оригінальну архітектуру з одним прихованим шаром\n",
        "2. Якщо все ж використовувати додатковий шар:\n",
        "   - Спробувати збільшити кількість епох навчання\n",
        "   - Додати регуляризацію для запобігання перенавчання\n",
        "   - Експериментувати з кількістю нейронів у додатковому шарі\n"
      ]
    },
    {
      "cell_type": "code",
      "execution_count": 36,
      "metadata": {},
      "outputs": [
        {
          "name": "stdout",
          "output_type": "stream",
          "text": [
            "\u001b[1m1/1\u001b[0m \u001b[32m━━━━━━━━━━━━━━━━━━━━\u001b[0m\u001b[37m\u001b[0m \u001b[1m0s\u001b[0m 30ms/step\n",
            "\u001b[1m1/1\u001b[0m \u001b[32m━━━━━━━━━━━━━━━━━━━━\u001b[0m\u001b[37m\u001b[0m \u001b[1m0s\u001b[0m 18ms/step\n",
            "\u001b[1m1/1\u001b[0m \u001b[32m━━━━━━━━━━━━━━━━━━━━\u001b[0m\u001b[37m\u001b[0m \u001b[1m0s\u001b[0m 19ms/step\n",
            "\u001b[1m1/1\u001b[0m \u001b[32m━━━━━━━━━━━━━━━━━━━━\u001b[0m\u001b[37m\u001b[0m \u001b[1m0s\u001b[0m 17ms/step\n",
            "\u001b[1m1/1\u001b[0m \u001b[32m━━━━━━━━━━━━━━━━━━━━\u001b[0m\u001b[37m\u001b[0m \u001b[1m0s\u001b[0m 18ms/step\n"
          ]
        },
        {
          "data": {
            "image/png": "[encoded data removed]",
            "text/plain": [
              "<Figure size 1500x500 with 5 Axes>"
            ]
          },
          "metadata": {},
          "output_type": "display_data"
        }
      ],
      "source": [
        "# Test more test images\n",
        "plt.figure(figsize=(15, 5))\n",
        "for i in range(5):\n",
        "    plt.subplot(1, 5, i+1)\n",
        "    plt.imshow(test_images[i])\n",
        "    predictions = model.predict(test_images[i:i+1])\n",
        "    predicted_class = np.argmax(predictions[0])\n",
        "    actual_class = test_labels[i]\n",
        "    plt.title(f'Pred: {predicted_class}\\nTrue: {actual_class}')\n",
        "    plt.axis('off')\n",
        "plt.show()"
      ]
    }
  ],
  "metadata": {
    "colab": {
      "provenance": []
    },
    "kernelspec": {
      "display_name": "Python 3",
      "name": "python3"
    },
    "language_info": {
      "codemirror_mode": {
        "name": "ipython",
        "version": 3
      },
      "file_extension": ".py",
      "mimetype": "text/x-python",
      "name": "python",
      "nbconvert_exporter": "python",
      "pygments_lexer": "ipython3",
      "version": "3.12.0"
    }
  },
  "nbformat": 4,
  "nbformat_minor": 0
}
